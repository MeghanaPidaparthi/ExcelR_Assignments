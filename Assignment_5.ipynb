{
  "nbformat": 4,
  "nbformat_minor": 0,
  "metadata": {
    "colab": {
      "provenance": [],
      "authorship_tag": "ABX9TyMCe4cQjIHpz03AEXB9+ohk",
      "include_colab_link": true
    },
    "kernelspec": {
      "name": "python3",
      "display_name": "Python 3"
    },
    "language_info": {
      "name": "python"
    }
  },
  "cells": [
    {
      "cell_type": "markdown",
      "metadata": {
        "id": "view-in-github",
        "colab_type": "text"
      },
      "source": [
        "<a href=\"https://colab.research.google.com/github/MeghanaPidaparthi/ExcelR_Assignments/blob/main/Assignment_5.ipynb\" target=\"_parent\"><img src=\"https://colab.research.google.com/assets/colab-badge.svg\" alt=\"Open In Colab\"/></a>"
      ]
    },
    {
      "cell_type": "code",
      "execution_count": null,
      "metadata": {
        "id": "uNfFURd2MsD2"
      },
      "outputs": [],
      "source": [
        "\"\"\"\n",
        "1)Write a Python program that performs the following tasks:\n",
        "\n",
        "1. Ask the user to enter a positive integer `n`.\n",
        "2. Use a `for` loop to print all numbers from `1` to `n` on separate lines.\n",
        "3. Use a `while` loop to calculate the sum of all numbers from `1` to `n` and print the result.\n",
        "\n",
        "\n",
        "2)Write a Python program that includes a user-defined function to perform the following tasks:\n",
        "\n",
        "1. Define a function named calculate_square that takes a single argument `n` and returns the square of `n`.\n",
        "2. In the main program, ask the user to input a positive integer.\n",
        "3. Call the calculate_square function with the user-provided number and display the result.\n",
        "\"\"\""
      ]
    },
    {
      "cell_type": "code",
      "source": [
        "#Q1\n",
        "n = int(input(\"Enter a positive integer: \"))\n",
        "print(\"Numbers from 1 to\", n, \"using for loop:\")\n",
        "for i in range(1, n + 1):\n",
        "    print(i)\n",
        "sum_numbers = 0\n",
        "i = 1\n",
        "while i <= n:\n",
        "    sum_numbers += i\n",
        "    i += 1\n",
        "\n",
        "print(f\"The sum of all numbers from 1 to {n} is: {sum_numbers}\")"
      ],
      "metadata": {
        "colab": {
          "base_uri": "https://localhost:8080/"
        },
        "id": "bgL1SQrLMyy6",
        "outputId": "31b434af-1154-4424-bb01-de3945cc3c15"
      },
      "execution_count": 1,
      "outputs": [
        {
          "output_type": "stream",
          "name": "stdout",
          "text": [
            "Enter a positive integer: 11\n",
            "Numbers from 1 to 11 using for loop:\n",
            "1\n",
            "2\n",
            "3\n",
            "4\n",
            "5\n",
            "6\n",
            "7\n",
            "8\n",
            "9\n",
            "10\n",
            "11\n",
            "The sum of all numbers from 1 to 11 is: 66\n"
          ]
        }
      ]
    },
    {
      "cell_type": "code",
      "source": [
        "#Q2\n",
        "def square(a):\n",
        "  return a**2\n",
        "a=float(input(\"a: \"))\n",
        "result=square(a)\n",
        "result"
      ],
      "metadata": {
        "colab": {
          "base_uri": "https://localhost:8080/"
        },
        "id": "reT8l9IRM6aS",
        "outputId": "379f0adc-852b-4688-cb31-5070429cc809"
      },
      "execution_count": 5,
      "outputs": [
        {
          "name": "stdout",
          "output_type": "stream",
          "text": [
            "a: 3\n"
          ]
        },
        {
          "output_type": "execute_result",
          "data": {
            "text/plain": [
              "9.0"
            ]
          },
          "metadata": {},
          "execution_count": 5
        }
      ]
    }
  ]
}