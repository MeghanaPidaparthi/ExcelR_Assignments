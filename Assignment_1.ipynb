{
  "nbformat": 4,
  "nbformat_minor": 0,
  "metadata": {
    "colab": {
      "provenance": [],
      "authorship_tag": "ABX9TyNl7op4lq8wR5rIJuykTtqB",
      "include_colab_link": true
    },
    "kernelspec": {
      "name": "python3",
      "display_name": "Python 3"
    },
    "language_info": {
      "name": "python"
    }
  },
  "cells": [
    {
      "cell_type": "markdown",
      "metadata": {
        "id": "view-in-github",
        "colab_type": "text"
      },
      "source": [
        "<a href=\"https://colab.research.google.com/github/MeghanaPidaparthi/ExcelR_Assignments/blob/main/Assignment_1.ipynb\" target=\"_parent\"><img src=\"https://colab.research.google.com/assets/colab-badge.svg\" alt=\"Open In Colab\"/></a>"
      ]
    },
    {
      "cell_type": "code",
      "execution_count": null,
      "metadata": {
        "colab": {
          "base_uri": "https://localhost:8080/"
        },
        "id": "RzX8SHPtWJBf",
        "outputId": "fd31122c-fae6-41e6-fecc-296db30c41bf"
      },
      "outputs": [
        {
          "output_type": "stream",
          "name": "stdout",
          "text": [
            "Integer Variable: 42 Type: <class 'int'>\n",
            "Float Variable: 3.14 Type: <class 'float'>\n",
            "String Variable: Hello, World! Type: <class 'str'>\n",
            "Boolean Variable: True Type: <class 'bool'>\n"
          ]
        }
      ],
      "source": [
        "#Q1.Write a program in Python to declare variables of different data types (integer, float, string, and boolean). Print each variable and its type.\n",
        "integer_variable = 42          # Integer\n",
        "float_variable = 3.14          # Float\n",
        "string_variable = \"Hello, World!\"  # String\n",
        "boolean_variable = True        # Boolean\n",
        "\n",
        "\n",
        "print(\"Integer Variable:\", integer_variable, \"Type:\", type(integer_variable))\n",
        "print(\"Float Variable:\", float_variable, \"Type:\", type(float_variable))\n",
        "print(\"String Variable:\", string_variable, \"Type:\", type(string_variable))\n",
        "print(\"Boolean Variable:\", boolean_variable, \"Type:\", type(boolean_variable))\n"
      ]
    },
    {
      "cell_type": "code",
      "source": [],
      "metadata": {
        "id": "TeTIpUu-WeZD"
      },
      "execution_count": null,
      "outputs": []
    }
  ]
}