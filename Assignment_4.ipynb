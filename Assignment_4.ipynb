{
  "nbformat": 4,
  "nbformat_minor": 0,
  "metadata": {
    "colab": {
      "provenance": [],
      "authorship_tag": "ABX9TyNnxkfiK5aZOVg6neIzGqCl",
      "include_colab_link": true
    },
    "kernelspec": {
      "name": "python3",
      "display_name": "Python 3"
    },
    "language_info": {
      "name": "python"
    }
  },
  "cells": [
    {
      "cell_type": "markdown",
      "metadata": {
        "id": "view-in-github",
        "colab_type": "text"
      },
      "source": [
        "<a href=\"https://colab.research.google.com/github/MeghanaPidaparthi/ExcelR_Assignments/blob/main/Assignment_4.ipynb\" target=\"_parent\"><img src=\"https://colab.research.google.com/assets/colab-badge.svg\" alt=\"Open In Colab\"/></a>"
      ]
    },
    {
      "cell_type": "code",
      "execution_count": 7,
      "metadata": {
        "id": "hxpIsDHvKpqt"
      },
      "outputs": [],
      "source": [
        "#Day-4:Write a Python program to calculate the sum of all even numbers between 1 and a given positive integer n"
      ]
    },
    {
      "cell_type": "code",
      "source": [
        "n = int(input(\"Enter a positive integer: \"))"
      ],
      "metadata": {
        "colab": {
          "base_uri": "https://localhost:8080/"
        },
        "id": "cIklUg0oKqvU",
        "outputId": "400210ae-363a-41d4-984b-fdde7faa7f44"
      },
      "execution_count": 2,
      "outputs": [
        {
          "name": "stdout",
          "output_type": "stream",
          "text": [
            "Enter a positive integer: 22\n"
          ]
        }
      ]
    },
    {
      "cell_type": "code",
      "source": [
        "even_sum = 0"
      ],
      "metadata": {
        "id": "4t6ymbwUK1oL"
      },
      "execution_count": 3,
      "outputs": []
    },
    {
      "cell_type": "code",
      "source": [
        "for i in range(1, n + 1):\n",
        "    if i % 2 == 0:  # Check if the number is even\n",
        "        even_sum += i"
      ],
      "metadata": {
        "id": "1L69CPVZK_MV"
      },
      "execution_count": 4,
      "outputs": []
    },
    {
      "cell_type": "code",
      "source": [
        "print(f\"The sum of all even numbers between 1 and {n} is: {even_sum}\")"
      ],
      "metadata": {
        "colab": {
          "base_uri": "https://localhost:8080/"
        },
        "id": "wrK-Q_ZaLAzJ",
        "outputId": "d358127d-f22e-4f3a-93f1-dbbd8a939b9e"
      },
      "execution_count": 5,
      "outputs": [
        {
          "output_type": "stream",
          "name": "stdout",
          "text": [
            "The sum of all even numbers between 1 and 22 is: 132\n"
          ]
        }
      ]
    },
    {
      "cell_type": "code",
      "source": [
        "\"\"\"\n",
        "    Calculate the sum of all even numbers between 1 and a given positive integer n.\n",
        "\n",
        "    Parameters:\n",
        "        n (int): A positive integer up to which even numbers will be added.\n",
        "\n",
        "    Returns:\n",
        "        int: The sum of all even numbers between 1 and n.\n",
        "\n",
        "    Example:\n",
        "        >>> sum_of_even_numbers(10)\n",
        "        30\n",
        "        >>> sum_of_even_numbers(7)\n",
        "        12\n",
        "    \"\"\""
      ],
      "metadata": {
        "colab": {
          "base_uri": "https://localhost:8080/",
          "height": 73
        },
        "id": "tPoDKj3jLDjg",
        "outputId": "a896a0f3-7673-4bf7-9574-cde559ee7656"
      },
      "execution_count": 6,
      "outputs": [
        {
          "output_type": "execute_result",
          "data": {
            "text/plain": [
              "'\\n    Calculate the sum of all even numbers between 1 and a given positive integer n.\\n\\n    Parameters:\\n        n (int): A positive integer up to which even numbers will be added.\\n\\n    Returns:\\n        int: The sum of all even numbers between 1 and n.\\n    \\n    Example:\\n        >>> sum_of_even_numbers(10)\\n        30\\n        >>> sum_of_even_numbers(7)\\n        12\\n    '"
            ],
            "application/vnd.google.colaboratory.intrinsic+json": {
              "type": "string"
            }
          },
          "metadata": {},
          "execution_count": 6
        }
      ]
    }
  ]
}