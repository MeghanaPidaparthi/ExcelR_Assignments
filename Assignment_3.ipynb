{
  "nbformat": 4,
  "nbformat_minor": 0,
  "metadata": {
    "colab": {
      "provenance": [],
      "authorship_tag": "ABX9TyMGb2rfoSkfTFRu0Opn3UFQ",
      "include_colab_link": true
    },
    "kernelspec": {
      "name": "python3",
      "display_name": "Python 3"
    },
    "language_info": {
      "name": "python"
    }
  },
  "cells": [
    {
      "cell_type": "markdown",
      "metadata": {
        "id": "view-in-github",
        "colab_type": "text"
      },
      "source": [
        "<a href=\"https://colab.research.google.com/github/MeghanaPidaparthi/ExcelR_Assignments/blob/main/Assignment_3.ipynb\" target=\"_parent\"><img src=\"https://colab.research.google.com/assets/colab-badge.svg\" alt=\"Open In Colab\"/></a>"
      ]
    },
    {
      "cell_type": "code",
      "execution_count": 3,
      "metadata": {
        "colab": {
          "base_uri": "https://localhost:8080/",
          "height": 55
        },
        "id": "bDRldtf9IHIq",
        "outputId": "e30c5332-ac58-460b-bc81-321328deff0b"
      },
      "outputs": [
        {
          "output_type": "execute_result",
          "data": {
            "text/plain": [
              "'\\nDay-3: Write a Python program that takes a student\\'s marks in three subjects as input.\\nIf the average is greater than or equal to 90, print \"Grade: A\".\\nIf the average is between 80 and 89, print \"Grade: B\".\\nIf the average is between 70 and 79, print \"Grade: C\".\\nOtherwise, print \"Grade: Fail\".\\n'"
            ],
            "application/vnd.google.colaboratory.intrinsic+json": {
              "type": "string"
            }
          },
          "metadata": {},
          "execution_count": 3
        }
      ],
      "source": [
        "\"\"\"\n",
        "Day-3: Write a Python program that takes a student's marks in three subjects as input.\n",
        "If the average is greater than or equal to 90, print \"Grade: A\".\n",
        "If the average is between 80 and 89, print \"Grade: B\".\n",
        "If the average is between 70 and 79, print \"Grade: C\".\n",
        "Otherwise, print \"Grade: Fail\".\n",
        "\"\"\""
      ]
    },
    {
      "cell_type": "code",
      "source": [
        "a= float(input(\"Enter marks for Subject 1: \"))\n",
        "b= float(input(\"Enter marks for Subject 2: \"))\n",
        "c= float(input(\"Enter marks for Subject 3: \"))\n",
        "avg=a+b+c/3\n",
        "if avg>=90:\n",
        "    print(\"Grade: A\")\n",
        "elif avg>=80 and avg<=89:\n",
        "    print(\"Grade: B\")\n",
        "elif avg>=70 and avg<=79:\n",
        "    print(\"Grade: C\")\n"
      ],
      "metadata": {
        "colab": {
          "base_uri": "https://localhost:8080/"
        },
        "id": "00H-WPv8IW6l",
        "outputId": "b5dee50b-9d7d-4c29-f3ed-4e3cd5fb40b8"
      },
      "execution_count": 4,
      "outputs": [
        {
          "output_type": "stream",
          "name": "stdout",
          "text": [
            "Enter marks for Subject 1: 90\n",
            "Enter marks for Subject 2: 50\n",
            "Enter marks for Subject 3: 30\n",
            "Grade: A\n"
          ]
        }
      ]
    },
    {
      "cell_type": "code",
      "source": [],
      "metadata": {
        "id": "LPgNLXKRIqH1"
      },
      "execution_count": null,
      "outputs": []
    }
  ]
}